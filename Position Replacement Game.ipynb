{
 "cells": [
  {
   "cell_type": "code",
   "execution_count": 2,
   "metadata": {},
   "outputs": [],
   "source": [
    "def display_game(game_list):\n",
    "    print(f\"Here is the current list: {game_list}\")\n",
    "    "
   ]
  },
  {
   "cell_type": "code",
   "execution_count": 17,
   "metadata": {},
   "outputs": [],
   "source": [
    "def position_choice():\n",
    "    \n",
    "    choice=\"WRONG\"\n",
    "    acceptable_range=[0,1,2]\n",
    "    within_range=False\n",
    "    \n",
    "    while choice.isdigit()==False or within_range==False:\n",
    "        choice=input(\"Enter a position index you want to replace (0-2):\")\n",
    "        \n",
    "        if choice.isdigit()==False:\n",
    "            print(\"Sorry, this is not a digit !!!\")\n",
    "        \n",
    "        if choice.isdigit()==True:\n",
    "            if int(choice) in acceptable_range:\n",
    "                within_range=True\n",
    "            else:\n",
    "                within_range=False\n",
    "                print(\"Sorry, the input is not in acceptable range (0-2)!!!\")\n",
    "        \n",
    "    return int(choice)     "
   ]
  },
  {
   "cell_type": "code",
   "execution_count": 5,
   "metadata": {},
   "outputs": [],
   "source": [
    "def user_replacement(game_list,position):\n",
    "    \n",
    "    user_replacement=input(\"Enter the word you want to replace with: \")\n",
    "    \n",
    "    game_list[position]=user_replacement\n",
    "    \n",
    "    return game_list\n"
   ]
  },
  {
   "cell_type": "code",
   "execution_count": 15,
   "metadata": {},
   "outputs": [],
   "source": [
    "def user_choice():\n",
    "    choice=\"WRONG\"\n",
    "    acceptable_range=['Y','N','y','n']\n",
    "    \n",
    "    \n",
    "    while choice not in acceptable_range :\n",
    "        choice=input(\"Do you want to keep playing: \")\n",
    "        \n",
    "        if choice not in acceptable_range:\n",
    "            print(\"Sorry, Please enter a valid choice ('Y','N','y','n'): \")\n",
    "        \n",
    "    if choice==\"Y\" or choice==\"y\":\n",
    "        return True\n",
    "    else:\n",
    "        return False\n",
    "             "
   ]
  },
  {
   "cell_type": "code",
   "execution_count": 19,
   "metadata": {},
   "outputs": [
    {
     "name": "stdout",
     "output_type": "stream",
     "text": [
      "Here is the current list: [0, 1, 2]\n",
      "Enter a position index you want to replace (0-2):2\n",
      "Enter the word you want to replace with: yu\n",
      "Here is the current list: [0, 1, 'yu']\n",
      "Do you want to keep playing: y\n",
      "Here is the current list: [0, 1, 'yu']\n",
      "Enter a position index you want to replace (0-2):0\n",
      "Enter the word you want to replace with: ji\n",
      "Here is the current list: ['ji', 1, 'yu']\n",
      "Do you want to keep playing: n\n"
     ]
    }
   ],
   "source": [
    "game_on=True\n",
    "game_list=[0,1,2]\n",
    "\n",
    "while game_on:\n",
    "    \n",
    "    display_game(game_list)\n",
    "    \n",
    "    position=position_choice()\n",
    "    \n",
    "    game_list=user_replacement(game_list,position)\n",
    "    \n",
    "    display_game(game_list)\n",
    "    \n",
    "    game_on=user_choice()"
   ]
  },
  {
   "cell_type": "code",
   "execution_count": null,
   "metadata": {},
   "outputs": [],
   "source": []
  }
 ],
 "metadata": {
  "kernelspec": {
   "display_name": "Python 3",
   "language": "python",
   "name": "python3"
  },
  "language_info": {
   "codemirror_mode": {
    "name": "ipython",
    "version": 3
   },
   "file_extension": ".py",
   "mimetype": "text/x-python",
   "name": "python",
   "nbconvert_exporter": "python",
   "pygments_lexer": "ipython3",
   "version": "3.7.6"
  }
 },
 "nbformat": 4,
 "nbformat_minor": 4
}
